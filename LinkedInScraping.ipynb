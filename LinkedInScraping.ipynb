{
 "cells": [
  {
   "cell_type": "code",
   "execution_count": 42,
   "outputs": [],
   "source": [
    "import requests as r\n",
    "from Cython.Plex import Actions\n",
    "from bs4 import BeautifulSoup\n",
    "import numpy as np\n",
    "import pandas as pd\n",
    "\n",
    "import time\n",
    "from selenium import webdriver\n",
    "from selenium.webdriver.chrome.options import Options\n",
    "from selenium.webdriver.common.keys import Keys\n",
    "from selenium.webdriver.common.by import By\n",
    "from selenium.webdriver.common.action_chains import ActionChains\n",
    "from selenium.webdriver.remote.webelement import WebElement\n",
    "from selenium.webdriver.support.ui import WebDriverWait\n",
    "from selenium.webdriver.support import expected_conditions as EC\n",
    "from selenium.webdriver.support.select import Select"
   ],
   "metadata": {
    "collapsed": false,
    "pycharm": {
     "name": "#%%\n"
    }
   }
  },
  {
   "cell_type": "code",
   "execution_count": 43,
   "outputs": [
    {
     "name": "stderr",
     "output_type": "stream",
     "text": [
      "C:\\Users\\yashd\\AppData\\Local\\Temp\\ipykernel_22048\\2461882802.py:3: DeprecationWarning: executable_path has been deprecated, please pass in a Service object\n",
      "  driver = webdriver.Chrome(path)\n"
     ]
    }
   ],
   "source": [
    "#Loading linkedin job search page\n",
    "path = \"C:/Program Files (x86)/chromedriver.exe\"\n",
    "driver = webdriver.Chrome(path)\n",
    "driver.maximize_window()\n",
    "url = \"https://www.linkedin.com/jobs/search?trk=guest_homepage-basic_guest_nav_menu_jobs&position=1&pageNum=0\"\n",
    "driver.get(url)\n",
    "time.sleep(3)"
   ],
   "metadata": {
    "collapsed": false,
    "pycharm": {
     "name": "#%%\n"
    }
   }
  },
  {
   "cell_type": "code",
   "execution_count": 44,
   "outputs": [],
   "source": [
    "#CLosing the sign-in pop-up\n",
    "sign_in_close = WebDriverWait(driver, 10).until(EC.presence_of_element_located((By.XPATH, '//button[@class=\"cta-modal__dismiss-btn absolute top-2 right-2 hover:cursor-pointer focus:outline focus:outline-2 focus:outline-color-action\"]')))\n",
    "sign_in_close.click()"
   ],
   "metadata": {
    "collapsed": false,
    "pycharm": {
     "name": "#%%\n"
    }
   }
  },
  {
   "cell_type": "code",
   "execution_count": 45,
   "outputs": [],
   "source": [
    "#Searching for Data Science jobs in the United Arab Emirates\n",
    "job_search = driver.find_element(by='name',value='keywords')\n",
    "job_search.clear()\n",
    "job_search.send_keys(\"Data Science\")\n",
    "job_loc = driver.find_element(By.NAME, \"location\")\n",
    "job_loc.clear()\n",
    "job_loc.send_keys(\"United Arab Emirates\")\n",
    "job_loc.send_keys(Keys.ENTER)\n",
    "time.sleep(2)"
   ],
   "metadata": {
    "collapsed": false,
    "pycharm": {
     "name": "#%%\n"
    }
   }
  },
  {
   "cell_type": "code",
   "execution_count": 46,
   "outputs": [],
   "source": [
    "#Entering experience filter\n",
    "driver.find_element(By.XPATH,'//button[@data-tracking-control-name=\"public_jobs_f_E\"]').click()\n",
    "#Selecting intern filter\n",
    "driver.find_element(By.XPATH,'//input[@id=\"f_E-0\"]').click()\n",
    "#Selecting entry level filter\n",
    "driver.find_element(By.XPATH,'//input[@id=\"f_E-1\"]').click()\n",
    "#Clicking done to show results\n",
    "driver.find_element(By.XPATH,'//button[@data-tracking-control-name=\"public_jobs_f_E\"][@type=\"submit\"]').click()"
   ],
   "metadata": {
    "collapsed": false,
    "pycharm": {
     "name": "#%%\n"
    }
   }
  },
  {
   "cell_type": "code",
   "execution_count": 47,
   "outputs": [],
   "source": [
    "#Function to Scroll to end of page (See more jobs tab) to get all the top jobs\n",
    "def scroll_down(driver):\n",
    "    last_height = driver.execute_script(\"return document.body.scrollHeight\")\n",
    "    while True:\n",
    "        # Scroll down to the bottom.\n",
    "        driver.execute_script(\"window.scrollTo(0, document.body.scrollHeight);\")\n",
    "        # Wait to load the page.\n",
    "        time.sleep(3)\n",
    "        # Calculate new scroll height and compare with last scroll height.\n",
    "        new_height = driver.execute_script(\"return document.body.scrollHeight\")\n",
    "        if new_height == last_height:\n",
    "            break\n",
    "        last_height = new_height"
   ],
   "metadata": {
    "collapsed": false,
    "pycharm": {
     "name": "#%%\n"
    }
   }
  },
  {
   "cell_type": "code",
   "execution_count": 48,
   "outputs": [
    {
     "name": "stdout",
     "output_type": "stream",
     "text": [
      "All jobs loaded\n"
     ]
    }
   ],
   "source": [
    "#Loading all the available jobs and extracting html script of the page\n",
    "time.sleep(5)\n",
    "while True:\n",
    "    scroll_down(driver)\n",
    "    try:\n",
    "        end_elem = WebDriverWait(driver, 10).until(EC.presence_of_element_located((By.XPATH,'//button[@class=\"infinite-scroller__show-more-button infinite-scroller__show-more-button--visible\"]')))\n",
    "        end_elem.click()\n",
    "    except:\n",
    "        print(\"All jobs loaded\")\n",
    "        job_html = driver.page_source\n",
    "        driver.quit()\n",
    "        break"
   ],
   "metadata": {
    "collapsed": false,
    "pycharm": {
     "name": "#%%\n"
    }
   }
  },
  {
   "cell_type": "code",
   "execution_count": 49,
   "outputs": [],
   "source": [
    "#Making a copy of html script loaded from above and creating beautiful soup object\n",
    "jobpage = job_html\n",
    "soup = BeautifulSoup(jobpage,'html.parser')"
   ],
   "metadata": {
    "collapsed": false,
    "pycharm": {
     "name": "#%%\n"
    }
   }
  },
  {
   "cell_type": "code",
   "execution_count": 50,
   "outputs": [],
   "source": [
    "#Functions to check for none values\n",
    "def is_none_list(list):\n",
    "    flag=False\n",
    "    counter=0\n",
    "    for i in list:\n",
    "        if i is None:\n",
    "            flag=True\n",
    "            counter+=1\n",
    "    return flag,counter\n",
    "\n",
    "def is_none_var(var):\n",
    "    if var is None:\n",
    "        return True\n",
    "    else:\n",
    "        return False"
   ],
   "metadata": {
    "collapsed": false,
    "pycharm": {
     "name": "#%%\n"
    }
   }
  },
  {
   "cell_type": "code",
   "execution_count": 51,
   "outputs": [
    {
     "name": "stdout",
     "output_type": "stream",
     "text": [
      "Number of jobs found: 134\n",
      "Number of jobs with no data: 13\n"
     ]
    }
   ],
   "source": [
    "#Extracting all the details of each job from job search page and storing the results in job_dict\n",
    "job_table = soup.find_all('ul', class_=\"jobs-search__results-list\")\n",
    "job_dict = {}\n",
    "none_counter=0\n",
    "for i in job_table[0].find_all('li'):\n",
    "\n",
    "    job_details, job_list = [], []\n",
    "\n",
    "    company_main = i.find('h4', class_=\"base-search-card__subtitle\" )\n",
    "    company = company_main.find('a')\n",
    "\n",
    "    job_link = i.find('a',class_=\"base-card__full-link absolute top-0 right-0 bottom-0 left-0 p-0 z-[2]\")\n",
    "\n",
    "    job_title = i.find('h3',class_=\"base-search-card__title\").string.strip()\n",
    "    job_loc = i.find('span',class_=\"job-search-card__location\").string.strip()\n",
    "    job_time = i.find('time',class_=\"job-search-card__listdate\")\n",
    "\n",
    "    job_list.extend([company,job_time,job_link])\n",
    "    flag, msg = is_none_list(job_list)\n",
    "    if flag:\n",
    "        if msg == 0:\n",
    "            job_details.extend([None, job_loc, job_time['datetime'], job_link['href']])\n",
    "        elif msg == 1:\n",
    "            job_details.extend([company.string.strip(), job_loc, None, job_link['href']])\n",
    "        else:\n",
    "            job_details.extend([None, None, None, None])\n",
    "        none_counter+=1\n",
    "        continue\n",
    "    job_details.extend([company.string.strip(),job_loc,job_time['datetime'],job_link['href']])\n",
    "    job_dict[job_title] = job_details\n",
    "print(f\"Number of jobs found: {len(job_dict)}\")\n",
    "print(f\"Number of jobs with no data: {none_counter}\")"
   ],
   "metadata": {
    "collapsed": false,
    "pycharm": {
     "name": "#%%\n"
    }
   }
  },
  {
   "cell_type": "code",
   "execution_count": 52,
   "outputs": [],
   "source": [
    "#Function to convert linkedin page to english\n",
    "def convert_to_eng(url):\n",
    "    driver = webdriver.Chrome(path)\n",
    "    driver.get(url)\n",
    "    #driver.get(url)\n",
    "    time.sleep(1)\n",
    "    driver.execute_script(\"window.scrollTo(0, document.body.scrollHeight);\")\n",
    "    time.sleep(2)\n",
    "    dropdown = WebDriverWait(driver, 5).until(EC.presence_of_element_located((By.XPATH,'//button[@data-tracking-control-name=\"footer-lang-dropdown_trigger\"]')))\n",
    "    dropdown.click()\n",
    "    lang = WebDriverWait(driver, 5).until(EC.presence_of_element_located((By.XPATH,'//button[@data-tracking-control-name=\"language-selector-en_US\"]')))\n",
    "    lang.click()\n",
    "    time.sleep(2)\n",
    "    script = driver.page_source\n",
    "    driver.quit()\n",
    "    return script"
   ],
   "metadata": {
    "collapsed": false,
    "pycharm": {
     "name": "#%%\n"
    }
   }
  },
  {
   "cell_type": "code",
   "execution_count": null,
   "outputs": [],
   "source": [
    "job_dict"
   ],
   "metadata": {
    "collapsed": false,
    "pycharm": {
     "name": "#%%\n"
    }
   }
  },
  {
   "cell_type": "code",
   "execution_count": 53,
   "outputs": [
    {
     "name": "stderr",
     "output_type": "stream",
     "text": [
      "C:\\Users\\yashd\\AppData\\Local\\Temp\\ipykernel_22048\\2506048946.py:3: DeprecationWarning: executable_path has been deprecated, please pass in a Service object\n",
      "  driver = webdriver.Chrome(path)\n"
     ]
    },
    {
     "name": "stdout",
     "output_type": "stream",
     "text": [
      "True\n"
     ]
    }
   ],
   "source": [
    "#Visiting listing of each job to extract further details and storing in job_details_dict\n",
    "job_details_dict = {}\n",
    "for job_title, job_details in job_dict.items():\n",
    "\n",
    "    #Checking if job details is none\n",
    "    if job_details[-1] is None:\n",
    "        job_details_dict[job_title] = [None, None, None, None]\n",
    "        continue\n",
    "\n",
    "    #Converting language of page from arabic to english\n",
    "    job_page = convert_to_eng(job_dict[job_title][-1])\n",
    "    soup = BeautifulSoup(job_page, 'html.parser')\n",
    "    criteria = soup.find('ul', class_=\"description__job-criteria-list\")\n",
    "    if is_none_var(criteria):\n",
    "        job_details_dict[job_title] = [None,None,None, None]\n",
    "        continue\n",
    "    criteria_list = []\n",
    "    for i in criteria.find_all('li',class_=\"description__job-criteria-item\"):\n",
    "        v = i.find('span').string.strip()\n",
    "        criteria_list.append(v)\n",
    "    job_details_dict[job_title] = criteria_list\n",
    "\n",
    "driver.quit()\n",
    "print(len(job_details_dict) == len(job_dict))"
   ],
   "metadata": {
    "collapsed": false,
    "pycharm": {
     "name": "#%%\n"
    }
   }
  },
  {
   "cell_type": "code",
   "execution_count": null,
   "outputs": [],
   "source": [
    "job_details_dict"
   ],
   "metadata": {
    "collapsed": false,
    "pycharm": {
     "name": "#%%\n"
    }
   }
  },
  {
   "cell_type": "code",
   "execution_count": 54,
   "outputs": [],
   "source": [
    "#Creating dataframe from job_dict dictionary\n",
    "list = []\n",
    "for key, value in job_details_dict.items():\n",
    "    l=[]\n",
    "    l.append(key)\n",
    "    for v in value:\n",
    "        l.append(v)\n",
    "    list.append(l)\n",
    "job_pd_1 = pd.DataFrame(data=list, columns=['Job Title','Seniority Level','Employment Type','Job Function','Industries'])"
   ],
   "metadata": {
    "collapsed": false,
    "pycharm": {
     "name": "#%%\n"
    }
   }
  },
  {
   "cell_type": "code",
   "execution_count": 55,
   "outputs": [],
   "source": [
    "#Creating Dataframe from job_details_dict\n",
    "list=[]\n",
    "for key,value in job_dict.items():\n",
    "    l=[key]\n",
    "    if value == \"None\":\n",
    "        none_list = (\"None\")\n",
    "    for i in range(len(value)-1):\n",
    "      l.append(value[i])\n",
    "    list.append(l)\n",
    "job_pd_2 = pd.DataFrame(list,columns=['Job Title', 'Company','Location','Date of listing'])"
   ],
   "metadata": {
    "collapsed": false,
    "pycharm": {
     "name": "#%%\n"
    }
   }
  },
  {
   "cell_type": "code",
   "execution_count": 56,
   "outputs": [
    {
     "data": {
      "text/plain": "                                             Job Title  \\\n0                                       Data Scientist   \n1                             data scientist - 1283651   \n2                            Data and Business Analyst   \n3               Data Analyst / Data Scientist (Remote)   \n4                                 Data Engineer Intern   \n..                                                 ...   \n129  Post-Doctoral Associate in the Center for Quan...   \n130  Post-Doctoral Associate in the Division of Soc...   \n131              Part-time Table Tennis Coach (Female)   \n132                            Commis(Chinese Cuisine)   \n133                             Commi-Lebanese Cuisine   \n\n                           Company  \\\n0                           Halian   \n1                           Halian   \n2          MedSupply International   \n3                             nybl   \n4                         dubizzle   \n..                             ...   \n129  New York University Abu Dhabi   \n130  New York University Abu Dhabi   \n131               Ajman University   \n132                         Kitopi   \n133                         Kitopi   \n\n                                              Location Date of listing  \\\n0    Abu Dhabi, Abu Dhabi Emirate, United Arab Emir...      2022-11-28   \n1                                 United Arab Emirates      2023-01-31   \n2                          Dubai, United Arab Emirates      2023-01-04   \n3                   Dubai, Dubai, United Arab Emirates      2022-12-07   \n4                   Dubai, Dubai, United Arab Emirates      2023-01-17   \n..                                                 ...             ...   \n129  Abu Dhabi, Abu Dhabi Emirate, United Arab Emir...      2023-01-26   \n130  Abu Dhabi, Abu Dhabi Emirate, United Arab Emir...      2023-01-21   \n131         Ajman, Ajman Emirate, United Arab Emirates      2023-01-07   \n132  Abu Dhabi, Abu Dhabi Emirate, United Arab Emir...      2023-01-23   \n133    Al Ain, Abu Dhabi Emirate, United Arab Emirates      2023-01-20   \n\n    Seniority Level Employment Type                            Job Function  \\\n0       Entry level        Contract  Engineering and Information Technology   \n1       Entry level       Full-time  Engineering and Information Technology   \n2              None            None                                    None   \n3       Entry level       Full-time                                   Other   \n4        Internship       Full-time                  Information Technology   \n..              ...             ...                                     ...   \n129            None            None                                    None   \n130            None            None                                    None   \n131     Entry level       Part-time                  Education and Training   \n132     Entry level       Full-time            Management and Manufacturing   \n133     Entry level       Full-time            Management and Manufacturing   \n\n                        Industries  \n0    IT Services and IT Consulting  \n1    IT Services and IT Consulting  \n2                             None  \n3    IT Services and IT Consulting  \n4     Online Audio and Video Media  \n..                             ...  \n129                           None  \n130                           None  \n131               Higher Education  \n132               Food & Beverages  \n133               Food & Beverages  \n\n[134 rows x 8 columns]",
      "text/html": "<div>\n<style scoped>\n    .dataframe tbody tr th:only-of-type {\n        vertical-align: middle;\n    }\n\n    .dataframe tbody tr th {\n        vertical-align: top;\n    }\n\n    .dataframe thead th {\n        text-align: right;\n    }\n</style>\n<table border=\"1\" class=\"dataframe\">\n  <thead>\n    <tr style=\"text-align: right;\">\n      <th></th>\n      <th>Job Title</th>\n      <th>Company</th>\n      <th>Location</th>\n      <th>Date of listing</th>\n      <th>Seniority Level</th>\n      <th>Employment Type</th>\n      <th>Job Function</th>\n      <th>Industries</th>\n    </tr>\n  </thead>\n  <tbody>\n    <tr>\n      <th>0</th>\n      <td>Data Scientist</td>\n      <td>Halian</td>\n      <td>Abu Dhabi, Abu Dhabi Emirate, United Arab Emir...</td>\n      <td>2022-11-28</td>\n      <td>Entry level</td>\n      <td>Contract</td>\n      <td>Engineering and Information Technology</td>\n      <td>IT Services and IT Consulting</td>\n    </tr>\n    <tr>\n      <th>1</th>\n      <td>data scientist - 1283651</td>\n      <td>Halian</td>\n      <td>United Arab Emirates</td>\n      <td>2023-01-31</td>\n      <td>Entry level</td>\n      <td>Full-time</td>\n      <td>Engineering and Information Technology</td>\n      <td>IT Services and IT Consulting</td>\n    </tr>\n    <tr>\n      <th>2</th>\n      <td>Data and Business Analyst</td>\n      <td>MedSupply International</td>\n      <td>Dubai, United Arab Emirates</td>\n      <td>2023-01-04</td>\n      <td>None</td>\n      <td>None</td>\n      <td>None</td>\n      <td>None</td>\n    </tr>\n    <tr>\n      <th>3</th>\n      <td>Data Analyst / Data Scientist (Remote)</td>\n      <td>nybl</td>\n      <td>Dubai, Dubai, United Arab Emirates</td>\n      <td>2022-12-07</td>\n      <td>Entry level</td>\n      <td>Full-time</td>\n      <td>Other</td>\n      <td>IT Services and IT Consulting</td>\n    </tr>\n    <tr>\n      <th>4</th>\n      <td>Data Engineer Intern</td>\n      <td>dubizzle</td>\n      <td>Dubai, Dubai, United Arab Emirates</td>\n      <td>2023-01-17</td>\n      <td>Internship</td>\n      <td>Full-time</td>\n      <td>Information Technology</td>\n      <td>Online Audio and Video Media</td>\n    </tr>\n    <tr>\n      <th>...</th>\n      <td>...</td>\n      <td>...</td>\n      <td>...</td>\n      <td>...</td>\n      <td>...</td>\n      <td>...</td>\n      <td>...</td>\n      <td>...</td>\n    </tr>\n    <tr>\n      <th>129</th>\n      <td>Post-Doctoral Associate in the Center for Quan...</td>\n      <td>New York University Abu Dhabi</td>\n      <td>Abu Dhabi, Abu Dhabi Emirate, United Arab Emir...</td>\n      <td>2023-01-26</td>\n      <td>None</td>\n      <td>None</td>\n      <td>None</td>\n      <td>None</td>\n    </tr>\n    <tr>\n      <th>130</th>\n      <td>Post-Doctoral Associate in the Division of Soc...</td>\n      <td>New York University Abu Dhabi</td>\n      <td>Abu Dhabi, Abu Dhabi Emirate, United Arab Emir...</td>\n      <td>2023-01-21</td>\n      <td>None</td>\n      <td>None</td>\n      <td>None</td>\n      <td>None</td>\n    </tr>\n    <tr>\n      <th>131</th>\n      <td>Part-time Table Tennis Coach (Female)</td>\n      <td>Ajman University</td>\n      <td>Ajman, Ajman Emirate, United Arab Emirates</td>\n      <td>2023-01-07</td>\n      <td>Entry level</td>\n      <td>Part-time</td>\n      <td>Education and Training</td>\n      <td>Higher Education</td>\n    </tr>\n    <tr>\n      <th>132</th>\n      <td>Commis(Chinese Cuisine)</td>\n      <td>Kitopi</td>\n      <td>Abu Dhabi, Abu Dhabi Emirate, United Arab Emir...</td>\n      <td>2023-01-23</td>\n      <td>Entry level</td>\n      <td>Full-time</td>\n      <td>Management and Manufacturing</td>\n      <td>Food &amp; Beverages</td>\n    </tr>\n    <tr>\n      <th>133</th>\n      <td>Commi-Lebanese Cuisine</td>\n      <td>Kitopi</td>\n      <td>Al Ain, Abu Dhabi Emirate, United Arab Emirates</td>\n      <td>2023-01-20</td>\n      <td>Entry level</td>\n      <td>Full-time</td>\n      <td>Management and Manufacturing</td>\n      <td>Food &amp; Beverages</td>\n    </tr>\n  </tbody>\n</table>\n<p>134 rows × 8 columns</p>\n</div>"
     },
     "execution_count": 56,
     "metadata": {},
     "output_type": "execute_result"
    }
   ],
   "source": [
    "#Merging the two dataframes using Job Title as key\n",
    "job_pd = pd.merge(left=job_pd_2, right=job_pd_1, on=['Job Title'])\n",
    "job_pd"
   ],
   "metadata": {
    "collapsed": false,
    "pycharm": {
     "name": "#%%\n"
    }
   }
  },
  {
   "cell_type": "code",
   "execution_count": 57,
   "outputs": [],
   "source": [
    "job_pd.to_csv('linkedin_job_listings.csv', index=False)"
   ],
   "metadata": {
    "collapsed": false,
    "pycharm": {
     "name": "#%%\n"
    }
   }
  },
  {
   "cell_type": "code",
   "execution_count": null,
   "outputs": [],
   "source": [],
   "metadata": {
    "collapsed": false,
    "pycharm": {
     "name": "#%%\n"
    }
   }
  }
 ],
 "metadata": {
  "kernelspec": {
   "display_name": "Python 3",
   "language": "python",
   "name": "python3"
  },
  "language_info": {
   "codemirror_mode": {
    "name": "ipython",
    "version": 2
   },
   "file_extension": ".py",
   "mimetype": "text/x-python",
   "name": "python",
   "nbconvert_exporter": "python",
   "pygments_lexer": "ipython2",
   "version": "2.7.6"
  }
 },
 "nbformat": 4,
 "nbformat_minor": 0
}